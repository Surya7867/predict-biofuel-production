{
 "cells": [
  {
   "cell_type": "code",
   "execution_count": 1,
   "id": "65701c0d-64e0-4e43-95da-b04b4f6a7065",
   "metadata": {},
   "outputs": [],
   "source": [
    "import pandas as pd\n",
    "import numpy as np\n",
    "import matplotlib.pyplot as plt\n",
    "import seaborn as sns\n",
    "from sklearn.model_selection import train_test_split\n",
    "from sklearn.preprocessing import StandardScaler, OneHotEncoder,LabelEncoder,MinMaxScaler\n",
    "from sklearn.linear_model import LinearRegression\n",
    "from sklearn.svm import SVR\n",
    "from sklearn.tree import DecisionTreeRegressor\n",
    "from sklearn.impute import SimpleImputer\n",
    "from sklearn.compose import ColumnTransformer\n",
    "from sklearn.pipeline import Pipeline\n",
    "from sklearn.ensemble import RandomForestRegressor,GradientBoostingRegressor\n",
    "from sklearn.metrics import confusion_matrix\n",
    "from sklearn.metrics import accuracy_score\n",
    "from sklearn.model_selection import GridSearchCV\n",
    "from sklearn.metrics import mean_squared_error, mean_absolute_error, r2_score\n",
    "import pickle\n",
    "import warnings\n",
    "warnings.filterwarnings('ignore')"
   ]
  },
  {
   "cell_type": "code",
   "execution_count": 2,
   "id": "49448adf-f1d2-4b4c-b270-7df73092feb7",
   "metadata": {},
   "outputs": [],
   "source": [
    "df=pd.read_csv(\"TSLA.csv\")"
   ]
  },
  {
   "cell_type": "code",
   "execution_count": 3,
   "id": "687356e8-9d96-4311-ba80-b81ce72e73e5",
   "metadata": {},
   "outputs": [
    {
     "data": {
      "text/html": [
       "<div>\n",
       "<style scoped>\n",
       "    .dataframe tbody tr th:only-of-type {\n",
       "        vertical-align: middle;\n",
       "    }\n",
       "\n",
       "    .dataframe tbody tr th {\n",
       "        vertical-align: top;\n",
       "    }\n",
       "\n",
       "    .dataframe thead th {\n",
       "        text-align: right;\n",
       "    }\n",
       "</style>\n",
       "<table border=\"1\" class=\"dataframe\">\n",
       "  <thead>\n",
       "    <tr style=\"text-align: right;\">\n",
       "      <th></th>\n",
       "      <th>Date</th>\n",
       "      <th>Open</th>\n",
       "      <th>High</th>\n",
       "      <th>Low</th>\n",
       "      <th>Close</th>\n",
       "      <th>Adj Close</th>\n",
       "      <th>Volume</th>\n",
       "    </tr>\n",
       "  </thead>\n",
       "  <tbody>\n",
       "    <tr>\n",
       "      <th>0</th>\n",
       "      <td>2010-06-30</td>\n",
       "      <td>5.158000</td>\n",
       "      <td>6.084000</td>\n",
       "      <td>4.660000</td>\n",
       "      <td>4.766000</td>\n",
       "      <td>4.766000</td>\n",
       "      <td>85935500</td>\n",
       "    </tr>\n",
       "    <tr>\n",
       "      <th>1</th>\n",
       "      <td>2010-07-01</td>\n",
       "      <td>5.000000</td>\n",
       "      <td>5.184000</td>\n",
       "      <td>4.054000</td>\n",
       "      <td>4.392000</td>\n",
       "      <td>4.392000</td>\n",
       "      <td>41094000</td>\n",
       "    </tr>\n",
       "    <tr>\n",
       "      <th>2</th>\n",
       "      <td>2010-07-02</td>\n",
       "      <td>4.600000</td>\n",
       "      <td>4.620000</td>\n",
       "      <td>3.742000</td>\n",
       "      <td>3.840000</td>\n",
       "      <td>3.840000</td>\n",
       "      <td>25699000</td>\n",
       "    </tr>\n",
       "    <tr>\n",
       "      <th>3</th>\n",
       "      <td>2010-07-06</td>\n",
       "      <td>4.000000</td>\n",
       "      <td>4.000000</td>\n",
       "      <td>3.166000</td>\n",
       "      <td>3.222000</td>\n",
       "      <td>3.222000</td>\n",
       "      <td>34334500</td>\n",
       "    </tr>\n",
       "    <tr>\n",
       "      <th>4</th>\n",
       "      <td>2010-07-07</td>\n",
       "      <td>3.280000</td>\n",
       "      <td>3.326000</td>\n",
       "      <td>2.996000</td>\n",
       "      <td>3.160000</td>\n",
       "      <td>3.160000</td>\n",
       "      <td>34608500</td>\n",
       "    </tr>\n",
       "    <tr>\n",
       "      <th>...</th>\n",
       "      <td>...</td>\n",
       "      <td>...</td>\n",
       "      <td>...</td>\n",
       "      <td>...</td>\n",
       "      <td>...</td>\n",
       "      <td>...</td>\n",
       "      <td>...</td>\n",
       "    </tr>\n",
       "    <tr>\n",
       "      <th>2574</th>\n",
       "      <td>2020-09-21</td>\n",
       "      <td>453.130005</td>\n",
       "      <td>455.679993</td>\n",
       "      <td>407.070007</td>\n",
       "      <td>449.390015</td>\n",
       "      <td>449.390015</td>\n",
       "      <td>109476800</td>\n",
       "    </tr>\n",
       "    <tr>\n",
       "      <th>2575</th>\n",
       "      <td>2020-09-22</td>\n",
       "      <td>429.600006</td>\n",
       "      <td>437.760010</td>\n",
       "      <td>417.600006</td>\n",
       "      <td>424.230011</td>\n",
       "      <td>424.230011</td>\n",
       "      <td>79580800</td>\n",
       "    </tr>\n",
       "    <tr>\n",
       "      <th>2576</th>\n",
       "      <td>2020-09-23</td>\n",
       "      <td>405.160004</td>\n",
       "      <td>412.149994</td>\n",
       "      <td>375.880005</td>\n",
       "      <td>380.359985</td>\n",
       "      <td>380.359985</td>\n",
       "      <td>95074200</td>\n",
       "    </tr>\n",
       "    <tr>\n",
       "      <th>2577</th>\n",
       "      <td>2020-09-24</td>\n",
       "      <td>363.799988</td>\n",
       "      <td>399.500000</td>\n",
       "      <td>351.299988</td>\n",
       "      <td>387.790009</td>\n",
       "      <td>387.790009</td>\n",
       "      <td>96561100</td>\n",
       "    </tr>\n",
       "    <tr>\n",
       "      <th>2578</th>\n",
       "      <td>2020-09-25</td>\n",
       "      <td>393.470001</td>\n",
       "      <td>408.730011</td>\n",
       "      <td>391.299988</td>\n",
       "      <td>407.339996</td>\n",
       "      <td>407.339996</td>\n",
       "      <td>67068400</td>\n",
       "    </tr>\n",
       "  </tbody>\n",
       "</table>\n",
       "<p>2579 rows × 7 columns</p>\n",
       "</div>"
      ],
      "text/plain": [
       "            Date        Open        High         Low       Close   Adj Close  \\\n",
       "0     2010-06-30    5.158000    6.084000    4.660000    4.766000    4.766000   \n",
       "1     2010-07-01    5.000000    5.184000    4.054000    4.392000    4.392000   \n",
       "2     2010-07-02    4.600000    4.620000    3.742000    3.840000    3.840000   \n",
       "3     2010-07-06    4.000000    4.000000    3.166000    3.222000    3.222000   \n",
       "4     2010-07-07    3.280000    3.326000    2.996000    3.160000    3.160000   \n",
       "...          ...         ...         ...         ...         ...         ...   \n",
       "2574  2020-09-21  453.130005  455.679993  407.070007  449.390015  449.390015   \n",
       "2575  2020-09-22  429.600006  437.760010  417.600006  424.230011  424.230011   \n",
       "2576  2020-09-23  405.160004  412.149994  375.880005  380.359985  380.359985   \n",
       "2577  2020-09-24  363.799988  399.500000  351.299988  387.790009  387.790009   \n",
       "2578  2020-09-25  393.470001  408.730011  391.299988  407.339996  407.339996   \n",
       "\n",
       "         Volume  \n",
       "0      85935500  \n",
       "1      41094000  \n",
       "2      25699000  \n",
       "3      34334500  \n",
       "4      34608500  \n",
       "...         ...  \n",
       "2574  109476800  \n",
       "2575   79580800  \n",
       "2576   95074200  \n",
       "2577   96561100  \n",
       "2578   67068400  \n",
       "\n",
       "[2579 rows x 7 columns]"
      ]
     },
     "execution_count": 3,
     "metadata": {},
     "output_type": "execute_result"
    }
   ],
   "source": [
    "df"
   ]
  },
  {
   "cell_type": "code",
   "execution_count": 4,
   "id": "c5acc3fe-b4ff-4859-b0be-bb2c645231b0",
   "metadata": {},
   "outputs": [
    {
     "data": {
      "text/html": [
       "<div>\n",
       "<style scoped>\n",
       "    .dataframe tbody tr th:only-of-type {\n",
       "        vertical-align: middle;\n",
       "    }\n",
       "\n",
       "    .dataframe tbody tr th {\n",
       "        vertical-align: top;\n",
       "    }\n",
       "\n",
       "    .dataframe thead th {\n",
       "        text-align: right;\n",
       "    }\n",
       "</style>\n",
       "<table border=\"1\" class=\"dataframe\">\n",
       "  <thead>\n",
       "    <tr style=\"text-align: right;\">\n",
       "      <th></th>\n",
       "      <th>Date</th>\n",
       "      <th>Open</th>\n",
       "      <th>High</th>\n",
       "      <th>Low</th>\n",
       "      <th>Close</th>\n",
       "      <th>Adj Close</th>\n",
       "      <th>Volume</th>\n",
       "    </tr>\n",
       "  </thead>\n",
       "  <tbody>\n",
       "    <tr>\n",
       "      <th>438</th>\n",
       "      <td>2012-03-26</td>\n",
       "      <td>7.118</td>\n",
       "      <td>7.618</td>\n",
       "      <td>7.008</td>\n",
       "      <td>7.48</td>\n",
       "      <td>7.48</td>\n",
       "      <td>15702500</td>\n",
       "    </tr>\n",
       "  </tbody>\n",
       "</table>\n",
       "</div>"
      ],
      "text/plain": [
       "           Date   Open   High    Low  Close  Adj Close    Volume\n",
       "438  2012-03-26  7.118  7.618  7.008   7.48       7.48  15702500"
      ]
     },
     "execution_count": 4,
     "metadata": {},
     "output_type": "execute_result"
    }
   ],
   "source": [
    "df.sample()"
   ]
  },
  {
   "cell_type": "code",
   "execution_count": 5,
   "id": "1ca20ef4-a49b-4a76-bdbf-f1c263832388",
   "metadata": {},
   "outputs": [
    {
     "name": "stdout",
     "output_type": "stream",
     "text": [
      "<class 'pandas.core.frame.DataFrame'>\n",
      "RangeIndex: 2579 entries, 0 to 2578\n",
      "Data columns (total 7 columns):\n",
      " #   Column     Non-Null Count  Dtype  \n",
      "---  ------     --------------  -----  \n",
      " 0   Date       2579 non-null   object \n",
      " 1   Open       2579 non-null   float64\n",
      " 2   High       2579 non-null   float64\n",
      " 3   Low        2579 non-null   float64\n",
      " 4   Close      2579 non-null   float64\n",
      " 5   Adj Close  2579 non-null   float64\n",
      " 6   Volume     2579 non-null   int64  \n",
      "dtypes: float64(5), int64(1), object(1)\n",
      "memory usage: 141.2+ KB\n"
     ]
    }
   ],
   "source": [
    "df.info()"
   ]
  },
  {
   "cell_type": "code",
   "execution_count": 6,
   "id": "bf14b78e-4123-415b-8530-f047ec5768b2",
   "metadata": {},
   "outputs": [
    {
     "data": {
      "text/plain": [
       "Date         0\n",
       "Open         0\n",
       "High         0\n",
       "Low          0\n",
       "Close        0\n",
       "Adj Close    0\n",
       "Volume       0\n",
       "dtype: int64"
      ]
     },
     "execution_count": 6,
     "metadata": {},
     "output_type": "execute_result"
    }
   ],
   "source": [
    "df.isnull().sum()"
   ]
  },
  {
   "cell_type": "code",
   "execution_count": 7,
   "id": "545745a7-fba5-4bd4-8a6d-89da4841346e",
   "metadata": {},
   "outputs": [
    {
     "data": {
      "text/html": [
       "<div>\n",
       "<style scoped>\n",
       "    .dataframe tbody tr th:only-of-type {\n",
       "        vertical-align: middle;\n",
       "    }\n",
       "\n",
       "    .dataframe tbody tr th {\n",
       "        vertical-align: top;\n",
       "    }\n",
       "\n",
       "    .dataframe thead th {\n",
       "        text-align: right;\n",
       "    }\n",
       "</style>\n",
       "<table border=\"1\" class=\"dataframe\">\n",
       "  <thead>\n",
       "    <tr style=\"text-align: right;\">\n",
       "      <th></th>\n",
       "      <th>Open</th>\n",
       "      <th>High</th>\n",
       "      <th>Low</th>\n",
       "      <th>Close</th>\n",
       "      <th>Adj Close</th>\n",
       "      <th>Volume</th>\n",
       "    </tr>\n",
       "  </thead>\n",
       "  <tbody>\n",
       "    <tr>\n",
       "      <th>count</th>\n",
       "      <td>2579.000000</td>\n",
       "      <td>2579.000000</td>\n",
       "      <td>2579.000000</td>\n",
       "      <td>2579.000000</td>\n",
       "      <td>2579.000000</td>\n",
       "      <td>2.579000e+03</td>\n",
       "    </tr>\n",
       "    <tr>\n",
       "      <th>mean</th>\n",
       "      <td>49.206686</td>\n",
       "      <td>50.301806</td>\n",
       "      <td>48.073117</td>\n",
       "      <td>49.253279</td>\n",
       "      <td>49.253279</td>\n",
       "      <td>3.078217e+07</td>\n",
       "    </tr>\n",
       "    <tr>\n",
       "      <th>std</th>\n",
       "      <td>57.934102</td>\n",
       "      <td>59.888383</td>\n",
       "      <td>55.852349</td>\n",
       "      <td>58.119783</td>\n",
       "      <td>58.119783</td>\n",
       "      <td>2.855717e+07</td>\n",
       "    </tr>\n",
       "    <tr>\n",
       "      <th>min</th>\n",
       "      <td>3.228000</td>\n",
       "      <td>3.326000</td>\n",
       "      <td>2.996000</td>\n",
       "      <td>3.160000</td>\n",
       "      <td>3.160000</td>\n",
       "      <td>5.925000e+05</td>\n",
       "    </tr>\n",
       "    <tr>\n",
       "      <th>25%</th>\n",
       "      <td>7.159000</td>\n",
       "      <td>7.268000</td>\n",
       "      <td>6.989000</td>\n",
       "      <td>7.153000</td>\n",
       "      <td>7.153000</td>\n",
       "      <td>1.047400e+07</td>\n",
       "    </tr>\n",
       "    <tr>\n",
       "      <th>50%</th>\n",
       "      <td>44.001999</td>\n",
       "      <td>44.660000</td>\n",
       "      <td>43.301998</td>\n",
       "      <td>43.924000</td>\n",
       "      <td>43.924000</td>\n",
       "      <td>2.413100e+07</td>\n",
       "    </tr>\n",
       "    <tr>\n",
       "      <th>75%</th>\n",
       "      <td>59.339000</td>\n",
       "      <td>60.171000</td>\n",
       "      <td>57.841000</td>\n",
       "      <td>59.020000</td>\n",
       "      <td>59.020000</td>\n",
       "      <td>3.979150e+07</td>\n",
       "    </tr>\n",
       "    <tr>\n",
       "      <th>max</th>\n",
       "      <td>502.140015</td>\n",
       "      <td>502.489990</td>\n",
       "      <td>470.510010</td>\n",
       "      <td>498.320007</td>\n",
       "      <td>498.320007</td>\n",
       "      <td>3.046940e+08</td>\n",
       "    </tr>\n",
       "  </tbody>\n",
       "</table>\n",
       "</div>"
      ],
      "text/plain": [
       "              Open         High          Low        Close    Adj Close  \\\n",
       "count  2579.000000  2579.000000  2579.000000  2579.000000  2579.000000   \n",
       "mean     49.206686    50.301806    48.073117    49.253279    49.253279   \n",
       "std      57.934102    59.888383    55.852349    58.119783    58.119783   \n",
       "min       3.228000     3.326000     2.996000     3.160000     3.160000   \n",
       "25%       7.159000     7.268000     6.989000     7.153000     7.153000   \n",
       "50%      44.001999    44.660000    43.301998    43.924000    43.924000   \n",
       "75%      59.339000    60.171000    57.841000    59.020000    59.020000   \n",
       "max     502.140015   502.489990   470.510010   498.320007   498.320007   \n",
       "\n",
       "             Volume  \n",
       "count  2.579000e+03  \n",
       "mean   3.078217e+07  \n",
       "std    2.855717e+07  \n",
       "min    5.925000e+05  \n",
       "25%    1.047400e+07  \n",
       "50%    2.413100e+07  \n",
       "75%    3.979150e+07  \n",
       "max    3.046940e+08  "
      ]
     },
     "execution_count": 7,
     "metadata": {},
     "output_type": "execute_result"
    }
   ],
   "source": [
    "df.describe()"
   ]
  },
  {
   "cell_type": "code",
   "execution_count": 8,
   "id": "11b34e71-d0e3-4367-9cb8-e82682c91b4c",
   "metadata": {},
   "outputs": [],
   "source": [
    "X = df[['High','Low','Open','Volume']].values\n",
    "y = df['Close'].values"
   ]
  },
  {
   "cell_type": "code",
   "execution_count": 9,
   "id": "c22ec963-c365-4184-a42a-922b3678b1bc",
   "metadata": {},
   "outputs": [
    {
     "data": {
      "text/plain": [
       "array([[6.08400000e+00, 4.66000000e+00, 5.15800000e+00, 8.59355000e+07],\n",
       "       [5.18400000e+00, 4.05400000e+00, 5.00000000e+00, 4.10940000e+07],\n",
       "       [4.62000000e+00, 3.74200000e+00, 4.60000000e+00, 2.56990000e+07],\n",
       "       ...,\n",
       "       [4.12149994e+02, 3.75880005e+02, 4.05160004e+02, 9.50742000e+07],\n",
       "       [3.99500000e+02, 3.51299988e+02, 3.63799988e+02, 9.65611000e+07],\n",
       "       [4.08730011e+02, 3.91299988e+02, 3.93470001e+02, 6.70684000e+07]])"
      ]
     },
     "execution_count": 9,
     "metadata": {},
     "output_type": "execute_result"
    }
   ],
   "source": [
    "X"
   ]
  },
  {
   "cell_type": "code",
   "execution_count": 10,
   "id": "75aae67a-eeaa-4fa6-a03e-228041f4c584",
   "metadata": {},
   "outputs": [
    {
     "data": {
      "text/plain": [
       "array([  4.766   ,   4.392   ,   3.84    , ..., 380.359985, 387.790009,\n",
       "       407.339996])"
      ]
     },
     "execution_count": 10,
     "metadata": {},
     "output_type": "execute_result"
    }
   ],
   "source": [
    "y"
   ]
  },
  {
   "cell_type": "code",
   "execution_count": 11,
   "id": "5056a982-9240-40fc-a877-39401e042fd0",
   "metadata": {},
   "outputs": [],
   "source": [
    "X_train, X_test, y_train, y_test = train_test_split(X,y, test_size=0.3, random_state=1)"
   ]
  },
  {
   "cell_type": "code",
   "execution_count": 12,
   "id": "51d4d99e-4196-41ec-9b43-ae347fee8696",
   "metadata": {},
   "outputs": [],
   "source": [
    "mms=MinMaxScaler()\n",
    "X_train=mms.fit_transform(X_train)\n",
    "X_test=mms.fit_transform(X_test)"
   ]
  },
  {
   "cell_type": "code",
   "execution_count": 13,
   "id": "01b576c7-b760-4942-846f-ef62bffc7516",
   "metadata": {},
   "outputs": [],
   "source": [
    "models = {\n",
    "    \"Linear Regression\": LinearRegression(),\n",
    "    \"Decision Tree Regression\": DecisionTreeRegressor(random_state=42),\n",
    "    \"Random Forest Regression\": RandomForestRegressor(n_estimators=100, random_state=42),\n",
    "    \"Support Vector Regression (SVR)\": SVR(),\n",
    "    \"Gradient Boosting Regression\": GradientBoostingRegressor(n_estimators=100, random_state=42)\n",
    "}"
   ]
  },
  {
   "cell_type": "code",
   "execution_count": 14,
   "id": "d7da2778-6580-4945-a818-af52a5ad82bc",
   "metadata": {},
   "outputs": [
    {
     "name": "stdout",
     "output_type": "stream",
     "text": [
      "\n",
      "Linear Regression Model Evaluation:\n",
      "Mean Squared Error (MSE): 19.196970816607713\n",
      "Root Mean Squared Error (RMSE): 4.381434789724447\n",
      "R^2 Score: 0.9933314058858228\n",
      "\n",
      "Decision Tree Regression Model Evaluation:\n",
      "Mean Squared Error (MSE): 43.069327487124795\n",
      "Root Mean Squared Error (RMSE): 6.562722566673438\n",
      "R^2 Score: 0.9850386883156723\n",
      "\n",
      "Random Forest Regression Model Evaluation:\n",
      "Mean Squared Error (MSE): 40.36585783053997\n",
      "Root Mean Squared Error (RMSE): 6.353413085148798\n",
      "R^2 Score: 0.9859778126187713\n",
      "\n",
      "Support Vector Regression (SVR) Model Evaluation:\n",
      "Mean Squared Error (MSE): 1441.5864406976089\n",
      "Root Mean Squared Error (RMSE): 37.96822935952648\n",
      "R^2 Score: 0.49922542752437726\n",
      "\n",
      "Gradient Boosting Regression Model Evaluation:\n",
      "Mean Squared Error (MSE): 45.614714213931634\n",
      "Root Mean Squared Error (RMSE): 6.753866612092041\n",
      "R^2 Score: 0.9841544784522076\n"
     ]
    }
   ],
   "source": [
    "for name, model in models.items():\n",
    "    model.fit(X_train, y_train)\n",
    "    y_pred = model.predict(X_test)\n",
    "    mse = mean_squared_error(y_test, y_pred)\n",
    "    rmse = np.sqrt(mse)  \n",
    "    r2 = r2_score(y_test, y_pred)\n",
    "    print(f\"\\n{name} Model Evaluation:\")\n",
    "    print(f\"Mean Squared Error (MSE): {mse}\")\n",
    "    print(f\"Root Mean Squared Error (RMSE): {rmse}\")\n",
    "    print(f\"R^2 Score: {r2}\")"
   ]
  },
  {
   "cell_type": "code",
   "execution_count": 15,
   "id": "7bce9a45-48bb-4ac1-9860-a1d045afe321",
   "metadata": {},
   "outputs": [
    {
     "data": {
      "image/png": "[encoded data removed]",
      "text/plain": [
       "<Figure size 800x600 with 1 Axes>"
      ]
     },
     "metadata": {},
     "output_type": "display_data"
    }
   ],
   "source": [
    "plt.figure(figsize=(8, 6))\n",
    "plt.scatter(y_test, y_pred, alpha=0.5, color='blue')\n",
    "plt.plot([y_test.min(), y_test.max()], [y_test.min(), y_test.max()], 'k--', lw=2)\n",
    "plt.title(f'{name} - Actual vs Predicted')\n",
    "plt.xlabel('Actual')\n",
    "plt.ylabel('Predicted')\n",
    "plt.show()"
   ]
  },
  {
   "cell_type": "code",
   "execution_count": 16,
   "id": "2ca00931-7417-451f-80b3-ca73a70549a5",
   "metadata": {},
   "outputs": [
    {
     "data": {
      "image/png": "[encoded data removed]",
      "text/plain": [
       "<Figure size 800x600 with 1 Axes>"
      ]
     },
     "metadata": {},
     "output_type": "display_data"
    }
   ],
   "source": [
    "plt.figure(figsize=(8, 6))\n",
    "sns.histplot(df['Close'], kde=True, color='blue')\n",
    "plt.title('Distribution of stock price')\n",
    "plt.xlabel('Close')\n",
    "plt.ylabel('Frequency')\n",
    "plt.show()"
   ]
  },
  {
   "cell_type": "code",
   "execution_count": 17,
   "id": "928892d9-c90f-44b1-b648-121708693186",
   "metadata": {},
   "outputs": [
    {
     "data": {
      "image/png": "[encoded data removed]",
      "text/plain": [
       "<Figure size 800x600 with 2 Axes>"
      ]
     },
     "metadata": {},
     "output_type": "display_data"
    }
   ],
   "source": [
    "plt.figure(figsize=(8, 6))\n",
    "sns.heatmap(df.corr(numeric_only=True), annot=True, cmap='coolwarm', fmt='.2f')\n",
    "plt.title('Correlation Heatmap')\n",
    "plt.show()"
   ]
  },
  {
   "cell_type": "code",
   "execution_count": 18,
   "id": "f8796d56-9c23-487b-9d6b-1db72a94140c",
   "metadata": {},
   "outputs": [],
   "source": [
    "data=pd.read_csv('TSLA.csv')"
   ]
  },
  {
   "cell_type": "code",
   "execution_count": 19,
   "id": "7b72d7ea-f873-40d1-a58e-f96d4430c7d5",
   "metadata": {},
   "outputs": [
    {
     "data": {
      "text/html": [
       "<div>\n",
       "<style scoped>\n",
       "    .dataframe tbody tr th:only-of-type {\n",
       "        vertical-align: middle;\n",
       "    }\n",
       "\n",
       "    .dataframe tbody tr th {\n",
       "        vertical-align: top;\n",
       "    }\n",
       "\n",
       "    .dataframe thead th {\n",
       "        text-align: right;\n",
       "    }\n",
       "</style>\n",
       "<table border=\"1\" class=\"dataframe\">\n",
       "  <thead>\n",
       "    <tr style=\"text-align: right;\">\n",
       "      <th></th>\n",
       "      <th>Date</th>\n",
       "      <th>Open</th>\n",
       "      <th>High</th>\n",
       "      <th>Low</th>\n",
       "      <th>Close</th>\n",
       "      <th>Adj Close</th>\n",
       "      <th>Volume</th>\n",
       "    </tr>\n",
       "  </thead>\n",
       "  <tbody>\n",
       "    <tr>\n",
       "      <th>0</th>\n",
       "      <td>2010-06-30</td>\n",
       "      <td>5.158000</td>\n",
       "      <td>6.084000</td>\n",
       "      <td>4.660000</td>\n",
       "      <td>4.766000</td>\n",
       "      <td>4.766000</td>\n",
       "      <td>85935500</td>\n",
       "    </tr>\n",
       "    <tr>\n",
       "      <th>1</th>\n",
       "      <td>2010-07-01</td>\n",
       "      <td>5.000000</td>\n",
       "      <td>5.184000</td>\n",
       "      <td>4.054000</td>\n",
       "      <td>4.392000</td>\n",
       "      <td>4.392000</td>\n",
       "      <td>41094000</td>\n",
       "    </tr>\n",
       "    <tr>\n",
       "      <th>2</th>\n",
       "      <td>2010-07-02</td>\n",
       "      <td>4.600000</td>\n",
       "      <td>4.620000</td>\n",
       "      <td>3.742000</td>\n",
       "      <td>3.840000</td>\n",
       "      <td>3.840000</td>\n",
       "      <td>25699000</td>\n",
       "    </tr>\n",
       "    <tr>\n",
       "      <th>3</th>\n",
       "      <td>2010-07-06</td>\n",
       "      <td>4.000000</td>\n",
       "      <td>4.000000</td>\n",
       "      <td>3.166000</td>\n",
       "      <td>3.222000</td>\n",
       "      <td>3.222000</td>\n",
       "      <td>34334500</td>\n",
       "    </tr>\n",
       "    <tr>\n",
       "      <th>4</th>\n",
       "      <td>2010-07-07</td>\n",
       "      <td>3.280000</td>\n",
       "      <td>3.326000</td>\n",
       "      <td>2.996000</td>\n",
       "      <td>3.160000</td>\n",
       "      <td>3.160000</td>\n",
       "      <td>34608500</td>\n",
       "    </tr>\n",
       "    <tr>\n",
       "      <th>...</th>\n",
       "      <td>...</td>\n",
       "      <td>...</td>\n",
       "      <td>...</td>\n",
       "      <td>...</td>\n",
       "      <td>...</td>\n",
       "      <td>...</td>\n",
       "      <td>...</td>\n",
       "    </tr>\n",
       "    <tr>\n",
       "      <th>2574</th>\n",
       "      <td>2020-09-21</td>\n",
       "      <td>453.130005</td>\n",
       "      <td>455.679993</td>\n",
       "      <td>407.070007</td>\n",
       "      <td>449.390015</td>\n",
       "      <td>449.390015</td>\n",
       "      <td>109476800</td>\n",
       "    </tr>\n",
       "    <tr>\n",
       "      <th>2575</th>\n",
       "      <td>2020-09-22</td>\n",
       "      <td>429.600006</td>\n",
       "      <td>437.760010</td>\n",
       "      <td>417.600006</td>\n",
       "      <td>424.230011</td>\n",
       "      <td>424.230011</td>\n",
       "      <td>79580800</td>\n",
       "    </tr>\n",
       "    <tr>\n",
       "      <th>2576</th>\n",
       "      <td>2020-09-23</td>\n",
       "      <td>405.160004</td>\n",
       "      <td>412.149994</td>\n",
       "      <td>375.880005</td>\n",
       "      <td>380.359985</td>\n",
       "      <td>380.359985</td>\n",
       "      <td>95074200</td>\n",
       "    </tr>\n",
       "    <tr>\n",
       "      <th>2577</th>\n",
       "      <td>2020-09-24</td>\n",
       "      <td>363.799988</td>\n",
       "      <td>399.500000</td>\n",
       "      <td>351.299988</td>\n",
       "      <td>387.790009</td>\n",
       "      <td>387.790009</td>\n",
       "      <td>96561100</td>\n",
       "    </tr>\n",
       "    <tr>\n",
       "      <th>2578</th>\n",
       "      <td>2020-09-25</td>\n",
       "      <td>393.470001</td>\n",
       "      <td>408.730011</td>\n",
       "      <td>391.299988</td>\n",
       "      <td>407.339996</td>\n",
       "      <td>407.339996</td>\n",
       "      <td>67068400</td>\n",
       "    </tr>\n",
       "  </tbody>\n",
       "</table>\n",
       "<p>2579 rows × 7 columns</p>\n",
       "</div>"
      ],
      "text/plain": [
       "            Date        Open        High         Low       Close   Adj Close  \\\n",
       "0     2010-06-30    5.158000    6.084000    4.660000    4.766000    4.766000   \n",
       "1     2010-07-01    5.000000    5.184000    4.054000    4.392000    4.392000   \n",
       "2     2010-07-02    4.600000    4.620000    3.742000    3.840000    3.840000   \n",
       "3     2010-07-06    4.000000    4.000000    3.166000    3.222000    3.222000   \n",
       "4     2010-07-07    3.280000    3.326000    2.996000    3.160000    3.160000   \n",
       "...          ...         ...         ...         ...         ...         ...   \n",
       "2574  2020-09-21  453.130005  455.679993  407.070007  449.390015  449.390015   \n",
       "2575  2020-09-22  429.600006  437.760010  417.600006  424.230011  424.230011   \n",
       "2576  2020-09-23  405.160004  412.149994  375.880005  380.359985  380.359985   \n",
       "2577  2020-09-24  363.799988  399.500000  351.299988  387.790009  387.790009   \n",
       "2578  2020-09-25  393.470001  408.730011  391.299988  407.339996  407.339996   \n",
       "\n",
       "         Volume  \n",
       "0      85935500  \n",
       "1      41094000  \n",
       "2      25699000  \n",
       "3      34334500  \n",
       "4      34608500  \n",
       "...         ...  \n",
       "2574  109476800  \n",
       "2575   79580800  \n",
       "2576   95074200  \n",
       "2577   96561100  \n",
       "2578   67068400  \n",
       "\n",
       "[2579 rows x 7 columns]"
      ]
     },
     "execution_count": 19,
     "metadata": {},
     "output_type": "execute_result"
    }
   ],
   "source": [
    "data"
   ]
  },
  {
   "cell_type": "code",
   "execution_count": 20,
   "id": "4c3b8e32-41f4-4a55-be7c-da08ab1180e2",
   "metadata": {},
   "outputs": [],
   "source": [
    "X = data[['High','Low','Open','Volume']]\n",
    "y = data['Close']"
   ]
  },
  {
   "cell_type": "code",
   "execution_count": 21,
   "id": "f0a804f2-72e7-4a31-8417-520456c81aa0",
   "metadata": {},
   "outputs": [],
   "source": [
    "X_train, X_test, y_train, y_test = train_test_split(X, y, test_size=0.3, random_state=1)"
   ]
  },
  {
   "cell_type": "code",
   "execution_count": 22,
   "id": "e337508b-2690-4a82-b23f-a3911a811bde",
   "metadata": {},
   "outputs": [],
   "source": [
    "preprocessor = ColumnTransformer(\n",
    "    transformers=[\n",
    "        ('num', MinMaxScaler(), ['High', 'Low', 'Open', 'Volume'])\n",
    "    ]\n",
    ")"
   ]
  },
  {
   "cell_type": "code",
   "execution_count": 23,
   "id": "143a22b3-d21a-4eb9-bf7a-357040c106a3",
   "metadata": {},
   "outputs": [],
   "source": [
    "models = {\n",
    "    \"Linear Regression\": Pipeline(steps=[\n",
    "        ('preprocessor', preprocessor),\n",
    "        ('model', LinearRegression())\n",
    "    ]),\n",
    "    \"Decision Tree Regression\": Pipeline(steps=[\n",
    "        ('preprocessor', preprocessor),\n",
    "        ('model', DecisionTreeRegressor(random_state=42))\n",
    "    ]),\n",
    "    \"Random Forest Regression\": Pipeline(steps=[\n",
    "        ('preprocessor', preprocessor),\n",
    "        ('model', RandomForestRegressor(n_estimators=100, random_state=42))\n",
    "    ]),\n",
    "    \"Support Vector Regression (SVR)\": Pipeline(steps=[\n",
    "        ('preprocessor', preprocessor),\n",
    "        ('model', SVR())\n",
    "    ]),\n",
    "    \"Gradient Boosting Regression\": Pipeline(steps=[\n",
    "        ('preprocessor', preprocessor),\n",
    "        ('model', GradientBoostingRegressor(n_estimators=100, random_state=42))\n",
    "    ])\n",
    "}\n"
   ]
  },
  {
   "cell_type": "code",
   "execution_count": 24,
   "id": "1a5e25cd-22bf-48d6-841c-3b46b4dac198",
   "metadata": {},
   "outputs": [],
   "source": [
    "param_grids = {\n",
    "    \"Linear Regression\": {},\n",
    "    \"Decision Tree Regression\": {\n",
    "        'model__max_depth': [3, 5, 7, 10],\n",
    "        'model__min_samples_split': [2, 5, 10],\n",
    "        'model__min_samples_leaf': [1, 2, 4]\n",
    "    },\n",
    "    \"Random Forest Regression\": {\n",
    "        'model__n_estimators': [100, 200],\n",
    "        'model__max_depth': [10, 20, None],\n",
    "        'model__min_samples_split': [2, 5],\n",
    "        'model__min_samples_leaf': [1, 2]\n",
    "    },\n",
    "    \"Support Vector Regression (SVR)\": {\n",
    "        'model__C': [1, 10, 100],\n",
    "        'model__gamma': ['scale', 'auto'],\n",
    "        'model__kernel': ['linear', 'rbf']\n",
    "    },\n",
    "    \"Gradient Boosting Regression\": {\n",
    "        'model__n_estimators': [100, 200],\n",
    "        'model__learning_rate': [0.01, 0.1, 0.2],\n",
    "        'model__max_depth': [3, 4, 5]\n",
    "    }\n",
    "}"
   ]
  },
  {
   "cell_type": "code",
   "execution_count": 25,
   "id": "7b21685a-5727-4f08-bb03-d63e41f6db51",
   "metadata": {},
   "outputs": [
    {
     "name": "stdout",
     "output_type": "stream",
     "text": [
      "\n",
      "Hyperparameter Tuning for Linear Regression:\n",
      "Mean Squared Error (MSE): 0.9033937308417276\n",
      "Root Mean Squared Error (RMSE): 0.9504702682576281\n",
      "R^2 Score: 0.9996861814202966\n",
      "\n",
      "Hyperparameter Tuning for Decision Tree Regression:\n",
      "Best Hyperparameters: {'model__max_depth': 10, 'model__min_samples_leaf': 2, 'model__min_samples_split': 5}\n",
      "Mean Squared Error (MSE): 3.290174486336317\n",
      "Root Mean Squared Error (RMSE): 1.8138838127995731\n",
      "R^2 Score: 0.9988570676892827\n",
      "\n",
      "Hyperparameter Tuning for Random Forest Regression:\n",
      "Best Hyperparameters: {'model__max_depth': 10, 'model__min_samples_leaf': 1, 'model__min_samples_split': 2, 'model__n_estimators': 200}\n",
      "Mean Squared Error (MSE): 3.694485032413067\n",
      "Root Mean Squared Error (RMSE): 1.922104324019138\n",
      "R^2 Score: 0.9987166193365907\n",
      "\n",
      "Hyperparameter Tuning for Support Vector Regression (SVR):\n",
      "Best Hyperparameters: {'model__C': 100, 'model__gamma': 'scale', 'model__kernel': 'linear'}\n",
      "Mean Squared Error (MSE): 2.3702715756057344\n",
      "Root Mean Squared Error (RMSE): 1.539568632963706\n",
      "R^2 Score: 0.9991766211852334\n",
      "\n",
      "Hyperparameter Tuning for Gradient Boosting Regression:\n",
      "Best Hyperparameters: {'model__learning_rate': 0.1, 'model__max_depth': 4, 'model__n_estimators': 200}\n",
      "Mean Squared Error (MSE): 3.623134093964583\n",
      "Root Mean Squared Error (RMSE): 1.9034532024624569\n",
      "R^2 Score: 0.9987414050412066\n"
     ]
    }
   ],
   "source": [
    "for name, pipeline in models.items():\n",
    "    print(f\"\\nHyperparameter Tuning for {name}:\")\n",
    "    param_grid = param_grids.get(name, {})\n",
    "    if param_grid:\n",
    "        grid_search = GridSearchCV(pipeline, param_grid, cv=5, scoring='r2', n_jobs=-1)\n",
    "        grid_search.fit(X_train, y_train)\n",
    "        print(f\"Best Hyperparameters: {grid_search.best_params_}\")\n",
    "        best_model = grid_search.best_estimator_\n",
    "        y_pred = best_model.predict(X_test)\n",
    "    else:\n",
    "        pipeline.fit(X_train, y_train)\n",
    "        y_pred = pipeline.predict(X_test)\n",
    "        best_model = pipeline\n",
    "    mse = mean_squared_error(y_test, y_pred)\n",
    "    rmse = np.sqrt(mse)\n",
    "    r2 = r2_score(y_test, y_pred)\n",
    "    print(f\"Mean Squared Error (MSE): {mse}\")\n",
    "    print(f\"Root Mean Squared Error (RMSE): {rmse}\")\n",
    "    print(f\"R^2 Score: {r2}\")"
   ]
  },
  {
   "cell_type": "code",
   "execution_count": 26,
   "id": "794f12b5-9dbf-488e-93be-2132c1eecd27",
   "metadata": {},
   "outputs": [],
   "source": [
    "pickle.dump(model, open('model.pkl', 'wb'))"
   ]
  },
  {
   "cell_type": "code",
   "execution_count": null,
   "id": "557f8fdb-4754-4592-83bd-e3844a4f2990",
   "metadata": {},
   "outputs": [],
   "source": []
  },
  {
   "cell_type": "code",
   "execution_count": null,
   "id": "72ac56f1-0d01-4464-99df-17f155d8960a",
   "metadata": {},
   "outputs": [],
   "source": []
  },
  {
   "cell_type": "code",
   "execution_count": null,
   "id": "8335fc97-6c8f-4d12-a15a-356a81128cb1",
   "metadata": {},
   "outputs": [],
   "source": []
  }
 ],
 "metadata": {
  "kernelspec": {
   "display_name": "Python 3 (ipykernel)",
   "language": "python",
   "name": "python3"
  },
  "language_info": {
   "codemirror_mode": {
    "name": "ipython",
    "version": 3
   },
   "file_extension": ".py",
   "mimetype": "text/x-python",
   "name": "python",
   "nbconvert_exporter": "python",
   "pygments_lexer": "ipython3",
   "version": "3.12.4"
  }
 },
 "nbformat": 4,
 "nbformat_minor": 5
}
